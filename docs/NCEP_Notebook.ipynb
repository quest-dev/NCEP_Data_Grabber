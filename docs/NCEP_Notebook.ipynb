{
 "cells": [
  {
   "cell_type": "code",
   "execution_count": null,
   "metadata": {},
   "outputs": [],
   "source": [
    "from IPython.core.display import display, HTML\n",
    "display(HTML(\"<style>.container { width:80% !important; }</style>\"))\n",
    "from ncep_client import NCEP_Client\n",
    "import datetime\n",
    "import os\n",
    "import requests"
   ]
  },
  {
   "cell_type": "code",
   "execution_count": null,
   "metadata": {},
   "outputs": [],
   "source": [
    "provider = NCEP_Client()"
   ]
  },
  {
   "cell_type": "code",
   "execution_count": null,
   "metadata": {},
   "outputs": [],
   "source": [
    "# The types of providers that this application supports from the ncep product inventory.\n",
    "provider.list_ncep_providers()"
   ]
  },
  {
   "cell_type": "code",
   "execution_count": null,
   "metadata": {},
   "outputs": [],
   "source": [
    "# Testing the GFS provider.\n",
    "provider.get_provider_types(\"Global Forecast System\")"
   ]
  },
  {
   "cell_type": "code",
   "execution_count": null,
   "metadata": {},
   "outputs": [],
   "source": [
    "provider.get_provider_products(\"Global Forecast System\")"
   ]
  },
  {
   "cell_type": "code",
   "execution_count": null,
   "metadata": {},
   "outputs": [],
   "source": [
    "# If you get nothing in return, plase wait a second and try running again.\n",
    "provider.get_formats_of_a_product(\"Global Forecast System\")"
   ]
  },
  {
   "cell_type": "code",
   "execution_count": null,
   "metadata": {},
   "outputs": [],
   "source": [
    "\n",
    "\n",
    "\n",
    "dates = provider.get_data_dates_of_a_product(\"Global Forecast System\")\n",
    "dates"
   ]
  },
  {
   "cell_type": "code",
   "execution_count": null,
   "metadata": {},
   "outputs": [],
   "source": [
    "results = provider.get_ncep_product_data(ncep_provider=\"Global Forecast System\", product_type=\"GFS\", \\\n",
    "                               product_date=dates[0], resolution=\"1p00\", cycle_runtime=\"18\", forecast_start=\"001\", \n",
    "                               forecast_end=\"010\", product_format=\"gfs\", \\\n",
    "                               name_of_product=\"Global longitude-latitude grid\")"
   ]
  },
  {
   "cell_type": "code",
   "execution_count": null,
   "metadata": {},
   "outputs": [],
   "source": [
    "print(results)\n",
    "print(len(results))"
   ]
  },
  {
   "cell_type": "code",
   "execution_count": null,
   "metadata": {},
   "outputs": [],
   "source": [
    "results = provider.get_ncep_product_data(ncep_provider=\"Global Forecast System\", product_type=\"GDAS\", \\\n",
    "                               product_date=\"20180319\", resolution=None, cycle_runtime=\"18\", forecast_start=None, \\\n",
    "                               forecast_end=None, product_format=\"gdas\", \\\n",
    "                               name_of_product=\"Prepared BUFR files\")"
   ]
  },
  {
   "cell_type": "code",
   "execution_count": null,
   "metadata": {},
   "outputs": [],
   "source": [
    "print(results)"
   ]
  },
  {
   "cell_type": "code",
   "execution_count": null,
   "metadata": {},
   "outputs": [],
   "source": [
    "results = provider.get_ncep_product_data(ncep_provider=\"Global Forecast System\", product_type=None, \\\n",
    "                               product_date=\"20180319\", resolution=None, cycle_runtime=None, forecast_start=None, \\\n",
    "                               forecast_end=None, product_format=\"gdas\", \\\n",
    "                               name_of_product=None)"
   ]
  },
  {
   "cell_type": "code",
   "execution_count": null,
   "metadata": {},
   "outputs": [],
   "source": [
    "print(results)"
   ]
  },
  {
   "cell_type": "code",
   "execution_count": null,
   "metadata": {},
   "outputs": [],
   "source": [
    "provider.download_data(download_dst=\"/Users/rditlaav/Documents/example\", list_of_datasets=results)"
   ]
  },
  {
   "cell_type": "code",
   "execution_count": null,
   "metadata": {},
   "outputs": [],
   "source": [
    "# Testing the NAM provider.\n",
    "provider.get_provider_types(\"North American Model\")"
   ]
  },
  {
   "cell_type": "code",
   "execution_count": null,
   "metadata": {},
   "outputs": [],
   "source": [
    "provider.get_provider_products(\"North American Model\")"
   ]
  },
  {
   "cell_type": "code",
   "execution_count": null,
   "metadata": {},
   "outputs": [],
   "source": [
    "# If you get nothing in return, plase wait a second and try running again.\n",
    "provider.get_formats_of_a_product(\"North American Model\")"
   ]
  },
  {
   "cell_type": "code",
   "execution_count": null,
   "metadata": {},
   "outputs": [],
   "source": [
    "dates = provider.get_data_dates_of_a_product(\"North American Model\")\n",
    "dates"
   ]
  },
  {
   "cell_type": "code",
   "execution_count": null,
   "metadata": {},
   "outputs": [],
   "source": [
    "# results = provider.get_ncep_product_data(ncep_provider=\"North American Model\", product_type=\"NAM\", \\\n",
    "#                                product_date=dates[0], resolution=\"1p00\", cycle_runtime=\"06\", forecast_start=\"001\", \n",
    "#                                forecast_end=\"010\", product_format=\"nam\", \\\n",
    "#                                name_of_product=\"NAM NEST over CONUS (5 km Resolution - Grid 227)\")\n",
    "results = provider.get_ncep_product_data(ncep_provider=\"North American Model\", product_type=\"NAM\", \\\n",
    "                               product_date=dates[0], resolution=None, cycle_runtime=\"06\", forecast_start=None, \n",
    "                               forecast_end=None, product_format=\"nam\", \\\n",
    "                               name_of_product=\"NAM NEST over CONUS (5 km Resolution - Grid 227)\")"
   ]
  },
  {
   "cell_type": "code",
   "execution_count": null,
   "metadata": {},
   "outputs": [],
   "source": [
    "results"
   ]
  },
  {
   "cell_type": "code",
   "execution_count": null,
   "metadata": {},
   "outputs": [],
   "source": [
    "provider.download_data(download_dst=\"/Users/rditlaav/Documents/example\", list_of_datasets=results)"
   ]
  },
  {
   "cell_type": "code",
   "execution_count": null,
   "metadata": {},
   "outputs": [],
   "source": []
  },
  {
   "cell_type": "code",
   "execution_count": null,
   "metadata": {},
   "outputs": [],
   "source": []
  }
 ],
 "metadata": {
  "kernelspec": {
   "display_name": "Python 3",
   "language": "python",
   "name": "python3"
  },
  "language_info": {
   "codemirror_mode": {
    "name": "ipython",
    "version": 3
   },
   "file_extension": ".py",
   "mimetype": "text/x-python",
   "name": "python",
   "nbconvert_exporter": "python",
   "pygments_lexer": "ipython3",
   "version": "3.6.5"
  }
 },
 "nbformat": 4,
 "nbformat_minor": 2
}
